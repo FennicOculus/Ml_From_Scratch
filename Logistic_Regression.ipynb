{
  "nbformat": 4,
  "nbformat_minor": 0,
  "metadata": {
    "colab": {
      "name": "Logistic_Regression.ipynb",
      "provenance": [],
      "collapsed_sections": [],
      "authorship_tag": "ABX9TyPpa4oJ+j3lmNdLj9J7emQa",
      "include_colab_link": true
    },
    "kernelspec": {
      "name": "python3",
      "display_name": "Python 3"
    },
    "language_info": {
      "name": "python"
    }
  },
  "cells": [
    {
      "cell_type": "markdown",
      "metadata": {
        "id": "view-in-github",
        "colab_type": "text"
      },
      "source": [
        "<a href=\"https://colab.research.google.com/github/FennicOculus/Ml_From_Scratch/blob/main/Logistic_Regression.ipynb\" target=\"_parent\"><img src=\"https://colab.research.google.com/assets/colab-badge.svg\" alt=\"Open In Colab\"/></a>"
      ]
    },
    {
      "cell_type": "code",
      "source": [
        "from google.colab import drive\n",
        "drive.mount('/content/drive')"
      ],
      "metadata": {
        "colab": {
          "base_uri": "https://localhost:8080/"
        },
        "id": "6LNq71OT-KED",
        "outputId": "9121b07d-63df-40b0-82be-a328d66dcf06"
      },
      "execution_count": 149,
      "outputs": [
        {
          "output_type": "stream",
          "name": "stdout",
          "text": [
            "Drive already mounted at /content/drive; to attempt to forcibly remount, call drive.mount(\"/content/drive\", force_remount=True).\n"
          ]
        }
      ]
    },
    {
      "cell_type": "markdown",
      "source": [
        "##Importing Libraries"
      ],
      "metadata": {
        "id": "5dkjyLDbMkz-"
      }
    },
    {
      "cell_type": "code",
      "execution_count": 185,
      "metadata": {
        "id": "f5MoRcbQ-EHJ"
      },
      "outputs": [],
      "source": [
        "import numpy as np\n",
        "import matplotlib.pyplot as plt\n",
        "from tqdm import tqdm\n",
        "import random as rand"
      ]
    },
    {
      "cell_type": "markdown",
      "source": [
        "## Importing Data"
      ],
      "metadata": {
        "id": "ikUHv6zKM280"
      }
    },
    {
      "cell_type": "markdown",
      "source": [
        "# Defining Functions"
      ],
      "metadata": {
        "id": "JOXVlkV-M5js"
      }
    },
    {
      "cell_type": "code",
      "source": [
        "def addingIntercept(X):\n",
        "  intercept=np.ones((data.shape[0],1))\n",
        "  X=np.column_stack((intercept,X[:,0:X.shape[1]-1]))\n",
        "  return X"
      ],
      "metadata": {
        "id": "wCFu3RZ4-WDH"
      },
      "execution_count": 151,
      "outputs": []
    },
    {
      "cell_type": "code",
      "source": [
        "def targetDef(X):\n",
        "  X = X[:, X.shape[1]-1]\n",
        "  return X.reshape(len(X), 1)"
      ],
      "metadata": {
        "id": "lB2zUDwM_Hix"
      },
      "execution_count": 152,
      "outputs": []
    },
    {
      "cell_type": "code",
      "source": [
        "def Sigmoid(z):\n",
        "    return 1/(1 + np.exp(-z))"
      ],
      "metadata": {
        "id": "rOfTg4BlAyCc"
      },
      "execution_count": 153,
      "outputs": []
    },
    {
      "cell_type": "code",
      "source": [
        "def hestimation(X, theta):\n",
        "  return Sigmoid(X.dot(theta))"
      ],
      "metadata": {
        "id": "TV7BxdTXA0-i"
      },
      "execution_count": 154,
      "outputs": []
    },
    {
      "cell_type": "code",
      "source": [
        "def computeCost(X, y, theta):\n",
        "    return -np.mean(y * np.log(hestimation(X, theta)) + (1 - y) * np.log(1 - hestimation(X, theta)))"
      ],
      "metadata": {
        "id": "N-PqPNugBBq7"
      },
      "execution_count": 155,
      "outputs": []
    },
    {
      "cell_type": "code",
      "source": [
        "def predict(X, theta, seuil=0.5):\n",
        "  preds = hestimation(np.asarray(X), theta)\n",
        "  pred_class = [1 if i >= seuil else 0 for i in preds]\n",
        "  return np.array(pred_class)"
      ],
      "metadata": {
        "id": "yciCzzyBBf1N"
      },
      "execution_count": 157,
      "outputs": []
    },
    {
      "cell_type": "code",
      "source": [
        "def predictProba(X, theta):\n",
        "  preds = hestimation(np.asarray(X), theta)\n",
        "  return np.array(preds)"
      ],
      "metadata": {
        "id": "na-8slMKBhay"
      },
      "execution_count": 158,
      "outputs": []
    },
    {
      "cell_type": "code",
      "source": [
        "def drawLine(X, theta):\n",
        "\n",
        "  xmin, xmax = X.min(), X.max()\n",
        "  y = (-theta[1]/theta[2]) * np.array([xmin, xmax]) + (-theta[0]/theta[2])\n",
        "\n",
        "  plt.plot(np.array([xmin, xmax]), y, 'k')"
      ],
      "metadata": {
        "id": "nP5XjyaIDnxj"
      },
      "execution_count": 159,
      "outputs": []
    },
    {
      "cell_type": "code",
      "source": [
        "def Split(data):\n",
        "  X=data[:,0:2]\n",
        "  y = data[:, 2]\n",
        "  y = y.reshape(len(y), 1)\n",
        "  return X, y"
      ],
      "metadata": {
        "id": "XKf1RxL-NHdt"
      },
      "execution_count": 177,
      "outputs": []
    },
    {
      "cell_type": "markdown",
      "source": [
        "# Model"
      ],
      "metadata": {
        "id": "FKyBu3cGM-ns"
      }
    },
    {
      "cell_type": "code",
      "source": [
        "def gradientDescent(X, y, alpha=0.1, iterations=50000):\n",
        "    \n",
        "    X = addingIntercept(data)\n",
        "\n",
        "    theta = np.zeros((X.shape[1], 1))\n",
        "    \n",
        "    J_history = []\n",
        "\n",
        "    H = np.zeros((X.shape[0], 1))\n",
        "    m = len(y)\n",
        "\n",
        "    # Sauvegarde de la première valeur \n",
        "    J_history.append(computeCost(X, y, theta))\n",
        "\n",
        "    for iter in tqdm(range(iterations)):\n",
        "\n",
        "      new_theta = alpha * 1/m * np.sum(np.dot(X.T, np.subtract(hestimation(X, theta), y)),axis=1).reshape(-1,1)\n",
        "      theta = np.subtract(theta, new_theta)\n",
        "\n",
        "      # Sauvegarde des résulat de l'itération\n",
        "      J_history.append(computeCost(X, y, theta))\n",
        "      \n",
        "    return theta, np.array(J_history)"
      ],
      "metadata": {
        "id": "OczDP8Y1BF5L"
      },
      "execution_count": 156,
      "outputs": []
    },
    {
      "cell_type": "markdown",
      "source": [
        "# Testing Model"
      ],
      "metadata": {
        "id": "HURe2yryNcv0"
      }
    },
    {
      "cell_type": "code",
      "source": [
        "# Data\n",
        "data = np.genfromtxt('/content/drive/MyDrive/AI/TP3/data.csv', delimiter=',', dtype=float)\n",
        "data.shape"
      ],
      "metadata": {
        "colab": {
          "base_uri": "https://localhost:8080/"
        },
        "id": "8igL_kwC-TnB",
        "outputId": "31e3bd28-50d8-4828-fdfe-405d091f6fc1"
      },
      "execution_count": 182,
      "outputs": [
        {
          "output_type": "execute_result",
          "data": {
            "text/plain": [
              "(100, 3)"
            ]
          },
          "metadata": {},
          "execution_count": 182
        }
      ]
    },
    {
      "cell_type": "code",
      "source": [
        "data[:10]"
      ],
      "metadata": {
        "colab": {
          "base_uri": "https://localhost:8080/"
        },
        "id": "XbzXB5VqNkjT",
        "outputId": "c7a556f0-2f0e-44a8-8c49-76be567c9957"
      },
      "execution_count": 184,
      "outputs": [
        {
          "output_type": "execute_result",
          "data": {
            "text/plain": [
              "array([[ 6.9247, 15.605 ,  0.    ],\n",
              "       [ 6.0573,  8.779 ,  0.    ],\n",
              "       [ 7.1695, 14.58  ,  0.    ],\n",
              "       [12.037 , 17.262 ,  1.    ],\n",
              "       [15.807 , 15.069 ,  1.    ],\n",
              "       [ 9.0167, 11.263 ,  0.    ],\n",
              "       [12.221 , 19.302 ,  1.    ],\n",
              "       [15.005 ,  9.3108,  1.    ],\n",
              "       [15.22  , 17.484 ,  1.    ],\n",
              "       [16.887 ,  8.7067,  1.    ]])"
            ]
          },
          "metadata": {},
          "execution_count": 184
        }
      ]
    },
    {
      "cell_type": "code",
      "source": [
        "X, y = Split(data)"
      ],
      "metadata": {
        "id": "8NDnkO2XCv42"
      },
      "execution_count": 178,
      "outputs": []
    },
    {
      "cell_type": "code",
      "source": [
        "# paramètres\n",
        "iterations = 30000;\n",
        "alpha = 0.09;\n",
        "# Appel\n",
        "theta, J_history  = gradientDescent(X, y, alpha, iterations);"
      ],
      "metadata": {
        "colab": {
          "base_uri": "https://localhost:8080/"
        },
        "id": "dJPmkFxiCV2n",
        "outputId": "be4eed08-ab4f-4dfd-c277-68cf405d7f2e"
      },
      "execution_count": 179,
      "outputs": [
        {
          "output_type": "stream",
          "name": "stderr",
          "text": [
            "100%|██████████| 30000/30000 [00:02<00:00, 13211.17it/s]\n"
          ]
        }
      ]
    },
    {
      "cell_type": "code",
      "source": [
        "X = addingIntercept(data)\n",
        "y = targetDef(data)"
      ],
      "metadata": {
        "id": "mMiT9WDQEE35"
      },
      "execution_count": 180,
      "outputs": []
    },
    {
      "cell_type": "markdown",
      "source": [
        "# Drawing Descision Boundary\n"
      ],
      "metadata": {
        "id": "POuVQ6r_Nr9W"
      }
    },
    {
      "cell_type": "code",
      "source": [
        "plt.scatter(X[np.where(y==1),1],X[np.where(y==1),2], label=\"Accepted\",marker ='o')\n",
        "plt.scatter(X[np.where(y==0),1],X[np.where(y==0),2], label=\"Not Accepted\",marker ='x')\n",
        "drawLine(X, theta)\n",
        "plt.legend()\n",
        "plt.xlabel('Mark in module 1')\n",
        "plt.ylabel('Mark in module 2')"
      ],
      "metadata": {
        "colab": {
          "base_uri": "https://localhost:8080/",
          "height": 296
        },
        "id": "UN_P_woWD9-M",
        "outputId": "0ed3da8c-3cf1-41fc-ed63-2191a7a08e80"
      },
      "execution_count": 181,
      "outputs": [
        {
          "output_type": "execute_result",
          "data": {
            "text/plain": [
              "Text(0, 0.5, 'Mark in module 2')"
            ]
          },
          "metadata": {},
          "execution_count": 181
        },
        {
          "output_type": "display_data",
          "data": {
            "text/plain": [
              "<Figure size 432x288 with 1 Axes>"
            ],
            "image/png": "[encoded data removed]"
          },
          "metadata": {
            "needs_background": "light"
          }
        }
      ]
    },
    {
      "cell_type": "markdown",
      "source": [
        "# Comparing to scikit-learn implementation"
      ],
      "metadata": {
        "id": "Qh7KBUX3N9OD"
      }
    },
    {
      "cell_type": "code",
      "source": [
        "from sklearn.linear_model import LogisticRegression\n",
        "logisticRegr = LogisticRegression()"
      ],
      "metadata": {
        "id": "3qZ9TP03H-Pi"
      },
      "execution_count": 164,
      "outputs": []
    },
    {
      "cell_type": "code",
      "source": [
        "logisticRegr.fit(data[:, 0:2], data[:, 2])"
      ],
      "metadata": {
        "colab": {
          "base_uri": "https://localhost:8080/"
        },
        "id": "kBiE_zshIHRi",
        "outputId": "2ef8c80b-4124-4bd2-e1c6-c896e691ee77"
      },
      "execution_count": 165,
      "outputs": [
        {
          "output_type": "execute_result",
          "data": {
            "text/plain": [
              "LogisticRegression()"
            ]
          },
          "metadata": {},
          "execution_count": 165
        }
      ]
    },
    {
      "cell_type": "code",
      "source": [
        "from seaborn import heatmap\n",
        "from sklearn.metrics import accuracy_score, confusion_matrix, roc_curve"
      ],
      "metadata": {
        "id": "eTqDfd_aObnp"
      },
      "execution_count": 186,
      "outputs": []
    },
    {
      "cell_type": "code",
      "source": [
        "accuracy_score(y, predict(X, theta)), accuracy_score(y, logisticRegr.predict(X[:, 1:3]))"
      ],
      "metadata": {
        "colab": {
          "base_uri": "https://localhost:8080/"
        },
        "id": "56skyjv8L26r",
        "outputId": "4b6f5d3b-ab06-468e-bb7e-b5b7045c0110"
      },
      "execution_count": 166,
      "outputs": [
        {
          "output_type": "execute_result",
          "data": {
            "text/plain": [
              "(0.89, 0.89)"
            ]
          },
          "metadata": {},
          "execution_count": 166
        }
      ]
    },
    {
      "cell_type": "code",
      "source": [
        "heatmap(confusion_matrix(y, predict(X, theta)), annot=True)"
      ],
      "metadata": {
        "colab": {
          "base_uri": "https://localhost:8080/",
          "height": 282
        },
        "id": "xHdmy5BUL-BT",
        "outputId": "541e6e29-159a-4a9e-c8ea-87c830056b99"
      },
      "execution_count": 169,
      "outputs": [
        {
          "output_type": "execute_result",
          "data": {
            "text/plain": [
              "<matplotlib.axes._subplots.AxesSubplot at 0x7f2a889bbbd0>"
            ]
          },
          "metadata": {},
          "execution_count": 169
        },
        {
          "output_type": "display_data",
          "data": {
            "text/plain": [
              "<Figure size 432x288 with 2 Axes>"
            ],
            "image/png": "[encoded data removed]"
          },
          "metadata": {
            "needs_background": "light"
          }
        }
      ]
    },
    {
      "cell_type": "code",
      "source": [
        "heatmap(confusion_matrix(y, logisticRegr.predict(X[:, 1:3])), annot=True)"
      ],
      "metadata": {
        "colab": {
          "base_uri": "https://localhost:8080/",
          "height": 282
        },
        "id": "KqwUgbR6MDmu",
        "outputId": "f721e6c4-344f-4b60-c4c6-3412d753770a"
      },
      "execution_count": 170,
      "outputs": [
        {
          "output_type": "execute_result",
          "data": {
            "text/plain": [
              "<matplotlib.axes._subplots.AxesSubplot at 0x7f2a888e22d0>"
            ]
          },
          "metadata": {},
          "execution_count": 170
        },
        {
          "output_type": "display_data",
          "data": {
            "text/plain": [
              "<Figure size 432x288 with 2 Axes>"
            ],
            "image/png": "[encoded data removed]"
          },
          "metadata": {
            "needs_background": "light"
          }
        }
      ]
    },
    {
      "cell_type": "code",
      "source": [
        "fpr1, tpr1, _ = roc_curve(y,  logisticRegr.predict_proba(X[:, 1:3])[::,1])\n",
        "fpr2, tpr2, _ = roc_curve(y,  predictProba(X, theta))"
      ],
      "metadata": {
        "id": "flDhx8JtMM2v"
      },
      "execution_count": 171,
      "outputs": []
    },
    {
      "cell_type": "code",
      "source": [
        "f = plt.figure()\n",
        "f.set_figwidth(20)\n",
        "f.set_figheight(5)\n",
        "\n",
        "plt.subplot(1, 2, 1)\n",
        "plt.plot(fpr1,tpr1)\n",
        "plt.ylabel('True Positive Rate')\n",
        "plt.xlabel('False Positive Rate')\n",
        "\n",
        "plt.subplot(1, 2, 2)\n",
        "plt.plot(fpr2,tpr2)\n",
        "plt.ylabel('True Positive Rate')\n",
        "plt.xlabel('False Positive Rate')"
      ],
      "metadata": {
        "colab": {
          "base_uri": "https://localhost:8080/",
          "height": 351
        },
        "id": "WTssuC-1MOTb",
        "outputId": "430f0739-29a5-4699-ba40-a70dc89c1274"
      },
      "execution_count": 174,
      "outputs": [
        {
          "output_type": "execute_result",
          "data": {
            "text/plain": [
              "Text(0.5, 0, 'False Positive Rate')"
            ]
          },
          "metadata": {},
          "execution_count": 174
        },
        {
          "output_type": "display_data",
          "data": {
            "text/plain": [
              "<Figure size 1440x360 with 2 Axes>"
            ],
            "image/png": "[encoded data removed]"
          },
          "metadata": {
            "needs_background": "light"
          }
        }
      ]
    },
    {
      "cell_type": "code",
      "source": [
        "parameters = np.array([logisticRegr.intercept_[0], logisticRegr.coef_[0][0], logisticRegr.coef_[0][1]])\n",
        "f = plt.figure()\n",
        "f.set_figwidth(20)\n",
        "f.set_figheight(5)\n",
        "\n",
        "plt.subplot(1, 2, 1)\n",
        "plt.scatter(X[np.where(y==1),1],X[np.where(y==1),2], label=\"Accepted\",marker ='o')\n",
        "plt.scatter(X[np.where(y==0),1],X[np.where(y==0),2], label=\"Not Accepted\",marker ='x')\n",
        "drawLine(X, parameters)\n",
        "plt.xlabel('Mark in module 1')\n",
        "plt.ylabel('Mark in module 2')\n",
        "plt.legend()\n",
        "\n",
        "plt.subplot(1, 2, 2)\n",
        "plt.scatter(X[np.where(y==1),1],X[np.where(y==1),2], label=\"Accepted\",marker ='o')\n",
        "plt.scatter(X[np.where(y==0),1],X[np.where(y==0),2], label=\"Not Accepted\",marker ='x')\n",
        "drawLine(X, theta)\n",
        "plt.xlabel('Mark in module 1')\n",
        "plt.ylabel('Mark in module 2')\n",
        "plt.legend()"
      ],
      "metadata": {
        "colab": {
          "base_uri": "https://localhost:8080/",
          "height": 351
        },
        "id": "92M_9JwDMREM",
        "outputId": "2223eed4-ecaa-4a96-bce6-c5825ca5eeb0"
      },
      "execution_count": 175,
      "outputs": [
        {
          "output_type": "execute_result",
          "data": {
            "text/plain": [
              "<matplotlib.legend.Legend at 0x7f2a88531050>"
            ]
          },
          "metadata": {},
          "execution_count": 175
        },
        {
          "output_type": "display_data",
          "data": {
            "text/plain": [
              "<Figure size 1440x360 with 2 Axes>"
            ],
            "image/png": "[encoded data removed]"
          },
          "metadata": {
            "needs_background": "light"
          }
        }
      ]
    }
  ]
}