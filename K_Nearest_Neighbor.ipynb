{
  "nbformat": 4,
  "nbformat_minor": 0,
  "metadata": {
    "colab": {
      "name": "K Nearest Neighbor using minst.ipynb",
      "provenance": [],
      "collapsed_sections": [],
      "authorship_tag": "ABX9TyOmyuPRdY3phfpmlD+3sZ+o"
    },
    "kernelspec": {
      "name": "python3",
      "display_name": "Python 3"
    },
    "language_info": {
      "name": "python"
    }
  },
  "cells": [
    {
      "cell_type": "code",
      "execution_count": 1,
      "metadata": {
        "id": "DADPf6Yl85wa"
      },
      "outputs": [],
      "source": [
        "import numpy as np\n",
        "import matplotlib.pyplot as plt\n",
        "from numpy import random\n",
        "from sklearn.model_selection import train_test_split\n",
        "from sklearn.datasets import fetch_openml\n",
        "from scipy.spatial.distance import euclidean\n",
        "from math import sqrt\n",
        "from tqdm import tqdm"
      ]
    },
    {
      "cell_type": "markdown",
      "source": [
        "# Defining The Euclidean Distance Function"
      ],
      "metadata": {
        "id": "yY2Nbwbiw50y"
      }
    },
    {
      "cell_type": "code",
      "source": [
        "# euclidean_distance function\n",
        "def euclidean_distance(a, b):\n",
        "\treturn sqrt(sum((e1-e2)**2 for e1, e2 in zip(a,b)))"
      ],
      "metadata": {
        "id": "wz5jWI1o9Z7W"
      },
      "execution_count": 2,
      "outputs": []
    },
    {
      "cell_type": "code",
      "source": [
        "# comparaison between the scipy euclidean distance implementation and mine  \n",
        "a = np.random.rand(3)*100\n",
        "b = np.random.rand(3)*100\n",
        "print(euclidean_distance(a, b))\n",
        "print(euclidean(a, b))"
      ],
      "metadata": {
        "colab": {
          "base_uri": "https://localhost:8080/"
        },
        "id": "7R9pFFOc-GXX",
        "outputId": "8838bcdc-9538-47fe-8048-1bb99ab3b7d8"
      },
      "execution_count": 3,
      "outputs": [
        {
          "output_type": "stream",
          "name": "stdout",
          "text": [
            "122.17238320992288\n",
            "122.17238320992288\n"
          ]
        }
      ]
    },
    {
      "cell_type": "markdown",
      "source": [
        "# Importing the Dataset"
      ],
      "metadata": {
        "id": "-pcNfb9wxA74"
      }
    },
    {
      "cell_type": "code",
      "source": [
        "mnist = fetch_openml('mnist_784', cache=False)"
      ],
      "metadata": {
        "id": "qpcSlW0W_NJo"
      },
      "execution_count": 4,
      "outputs": []
    },
    {
      "cell_type": "code",
      "source": [
        "print(mnist.data.shape)"
      ],
      "metadata": {
        "colab": {
          "base_uri": "https://localhost:8080/"
        },
        "id": "99tvpyre_sg6",
        "outputId": "45b9010a-6638-4de2-9087-9799039b0d0c"
      },
      "execution_count": 5,
      "outputs": [
        {
          "output_type": "stream",
          "name": "stdout",
          "text": [
            "(70000, 784)\n"
          ]
        }
      ]
    },
    {
      "cell_type": "code",
      "source": [
        "x = mnist.data.astype('float32')\n",
        "y = mnist.target.astype('int64')"
      ],
      "metadata": {
        "id": "9QuCTsXBAEef"
      },
      "execution_count": 6,
      "outputs": []
    },
    {
      "cell_type": "markdown",
      "source": [
        "# Pre-Processing the Dataset"
      ],
      "metadata": {
        "id": "_FVoFWgzxGfQ"
      }
    },
    {
      "cell_type": "code",
      "source": [
        "x /= 255.0"
      ],
      "metadata": {
        "id": "5SNpCSDOBEhh"
      },
      "execution_count": 7,
      "outputs": []
    },
    {
      "cell_type": "code",
      "source": [
        "x = np.array(x)\n",
        "y = np.array(y)"
      ],
      "metadata": {
        "id": "Yy2d_3ExCt8g"
      },
      "execution_count": 8,
      "outputs": []
    },
    {
      "cell_type": "code",
      "source": [
        "X_train, X_test, y_train, y_test = train_test_split(x, y, test_size=0.25, random_state=42)\n",
        "assert(X_train.shape[0] + X_test.shape[0] == mnist.data.shape[0])\n",
        "X_train.shape, y_train.shape"
      ],
      "metadata": {
        "colab": {
          "base_uri": "https://localhost:8080/"
        },
        "id": "FQsVo9RrBmTG",
        "outputId": "82a0c768-60b1-4479-ad07-c07bd9bd8901"
      },
      "execution_count": 9,
      "outputs": [
        {
          "output_type": "execute_result",
          "data": {
            "text/plain": [
              "((52500, 784), (52500,))"
            ]
          },
          "metadata": {},
          "execution_count": 9
        }
      ]
    },
    {
      "cell_type": "code",
      "source": [
        "K = 10"
      ],
      "metadata": {
        "id": "-aG1tg0sFpav"
      },
      "execution_count": 10,
      "outputs": []
    },
    {
      "cell_type": "markdown",
      "source": [
        "# KNN function"
      ],
      "metadata": {
        "id": "ohzrYCHRxPNX"
      }
    },
    {
      "cell_type": "code",
      "source": [
        "from queue import PriorityQueue"
      ],
      "metadata": {
        "id": "SDzTIFA96RhF"
      },
      "execution_count": 11,
      "outputs": []
    },
    {
      "cell_type": "code",
      "source": [
        "def KPP(x,X, Y, k):\n",
        "    distances = PriorityQueue() # A list of all distnances with their respective index\n",
        "    knn = np.zeros(10) # list of available classes (here 10 because we're working on minst ds)\n",
        "    for i in range(len(X)):\n",
        "      d = euclidean_distance(x, X[i])\n",
        "      distances.put((d, i))\n",
        " \n",
        "    for i in range(k):\n",
        "      x, y = distances.get()\n",
        "      knn[Y[y]] += 1\n",
        "\n",
        "    return np.where(knn == max(knn))[0][0]"
      ],
      "metadata": {
        "id": "Ssosgvsa9aUe"
      },
      "execution_count": 28,
      "outputs": []
    },
    {
      "cell_type": "code",
      "source": [
        "c = random.randint(X_test.shape[0])\n",
        "predict1va = KPP(X_test[c], X_train, y_train, K)\n",
        "plt.imshow(X_test[c].reshape(28, 28), cmap='gray')\n",
        "print('The Prediction result is '+str(predict1va)+' while the real result is '+str(y_test[c]))"
      ],
      "metadata": {
        "id": "TLXtHnPbKked",
        "colab": {
          "base_uri": "https://localhost:8080/",
          "height": 282
        },
        "outputId": "f2a2869a-de2b-4342-d971-9b6faf7701ee"
      },
      "execution_count": 13,
      "outputs": [
        {
          "output_type": "stream",
          "name": "stdout",
          "text": [
            "The Prediction result is 7 while the real result is 7\n"
          ]
        },
        {
          "output_type": "display_data",
          "data": {
            "image/png": "[encoded data removed]",
            "text/plain": [
              "<Figure size 432x288 with 1 Axes>"
            ]
          },
          "metadata": {
            "needs_background": "light"
          }
        }
      ]
    },
    {
      "cell_type": "code",
      "source": [
        "def KNN(x,X, Y, k):\n",
        "    result = []\n",
        "    for i in tqdm(x):\n",
        "      result.append(KPP(i, X_train, y_train, k))\n",
        "\n",
        "    return result"
      ],
      "metadata": {
        "id": "cexNbDY6Iage"
      },
      "execution_count": 14,
      "outputs": []
    },
    {
      "cell_type": "code",
      "source": [
        "predict = KNN(X_test[:100], X_train, y_train, K)"
      ],
      "metadata": {
        "colab": {
          "base_uri": "https://localhost:8080/"
        },
        "id": "vyNNahEzKj2A",
        "outputId": "5d7a941d-ff49-4a53-f7a1-c52620203a7a"
      },
      "execution_count": 23,
      "outputs": [
        {
          "output_type": "stream",
          "name": "stderr",
          "text": [
            "100%|██████████| 100/100 [33:05<00:00, 19.85s/it]\n"
          ]
        }
      ]
    },
    {
      "cell_type": "code",
      "source": [
        "from sklearn.metrics import accuracy_score\n",
        "print(accuracy_score(y_test[:100], predict))"
      ],
      "metadata": {
        "id": "mViT-vUKMhiW",
        "colab": {
          "base_uri": "https://localhost:8080/"
        },
        "outputId": "e57260fa-3a6d-40b6-9bd5-e05f53ec63f9"
      },
      "execution_count": 25,
      "outputs": [
        {
          "output_type": "stream",
          "name": "stdout",
          "text": [
            "0.98\n"
          ]
        }
      ]
    },
    {
      "cell_type": "code",
      "source": [
        "from sklearn.neighbors import KNeighborsClassifier\n",
        "knn = KNeighborsClassifier(n_neighbors=K)\n",
        "knn.fit(X_train, y_train) #Fitting model on entire dataset X\n",
        "y_pred = knn.predict(X_test[:100]) # Predicting"
      ],
      "metadata": {
        "id": "sQnYZ1nnFneH"
      },
      "execution_count": 26,
      "outputs": []
    },
    {
      "cell_type": "code",
      "source": [
        "print(accuracy_score(y_test[:100], y_pred))"
      ],
      "metadata": {
        "id": "t2aS4nRAGjM2",
        "colab": {
          "base_uri": "https://localhost:8080/"
        },
        "outputId": "2dab6dcf-5270-4db6-8cc2-4a7a2d8c6ef0"
      },
      "execution_count": 27,
      "outputs": [
        {
          "output_type": "stream",
          "name": "stdout",
          "text": [
            "0.98\n"
          ]
        }
      ]
    }
  ]
}